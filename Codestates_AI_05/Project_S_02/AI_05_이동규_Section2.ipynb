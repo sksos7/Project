{
  "nbformat": 4,
  "nbformat_minor": 0,
  "metadata": {
    "colab": {
      "name": "Project_Wearable_keyborad.ipynb",
      "provenance": [],
      "authorship_tag": "ABX9TyMkcGN0b6I2hcRU+JfOM1p1",
      "include_colab_link": true
    },
    "kernelspec": {
      "name": "python3",
      "display_name": "Python 3"
    },
    "language_info": {
      "name": "python"
    }
  },
  "cells": [
    {
      "cell_type": "markdown",
      "metadata": {
        "id": "view-in-github",
        "colab_type": "text"
      },
      "source": [
        "<a href=\"https://colab.research.google.com/github/sksos7/Project/blob/main/Codestates_AI_05/Project_S_02/AI_05_%EC%9D%B4%EB%8F%99%EA%B7%9C_Section2.ipynb\" target=\"_parent\"><img src=\"https://colab.research.google.com/assets/colab-badge.svg\" alt=\"Open In Colab\"/></a>"
      ]
    },
    {
      "cell_type": "markdown",
      "metadata": {
        "id": "hLHunRY6lnsR"
      },
      "source": [
        "\n",
        "\n",
        "# Project Second\n",
        "\n"
      ]
    },
    {
      "cell_type": "markdown",
      "metadata": {
        "id": "4FbwfyKUGQOG"
      },
      "source": [
        "\n",
        "\n",
        "\n",
        "1. 데이터 선정 이유 및 문제 정의\n",
        " - 왜 해당 데이터를 선택했는지?\n",
        " - 어떤 유형의 문제로 (분류 / 회귀) 접근할지?\n",
        "2. 데이터를 이용한 가설 및 평가지표, 베이스라인 선택\n",
        " - 데이터를 통해서 내가 무엇을 해볼 수 있을지 가설을 세우는 것이 중요\n",
        " - 해당 특성을 target으로 지정한 이유를 설명하세요\n",
        " - 해당 베이스라인 모델과 평가지표를 선택한 이유를 설명하세요\n",
        "3. EDA와 데이터 전처리\n",
        " - EDA, Feature Engineering, 데이터의 정규화, 노이즈 제거\n",
        " - 결측치 제거 혹은 대체,데이터 밸런스\n",
        " - Data Leakage가 있었나요? 없었다면 어떻게 방지했나요?\n",
        " - 만들고자 하는 모델은 언제 유용한가요? 어떤 한계를 가지고 있나요?\n",
        "4. 머신러닝 방식 적용 및 교차검증\n",
        " - 탐색과 전처리 작업이 끝났다면 모델링을 통해 베이스라인과의 성능 비교\n",
        " - Linear / Tree-based / Ensemble 모델을 학습\n",
        " - 평가지표를 계산 후 베이스라인과 비교\n",
        " - 교차 검증 (이하 CV)을 통해서 일반화될 가능성이 있는지 확인\n",
        " - 모델 성능을 개선하기 위한 다양한 방법을 적용 ( Hyperparameter tuning, etc. )\n",
        " - 최소 2개 이상의 모델을 만들어서 validation 점수를 보고\n",
        " - 최종 모델의 test 점수를 보고\n",
        " - 모델을 학습한 후에 베이스라인보다 잘 나왔나요? 그렇지 않다면 그 이유는?\n",
        " - 모델 성능 개선을 위해 어떤 방법을 적용했나요? 그 방법을 선택한 이유는?\n",
        " - 최종 모델에 관해 설명하세요.\n",
        "5. 머신러닝 모델 해석\n",
        " - PDP, SHAP을 활용하여 최종 모델을 설명\n",
        " - 시각화는 \"설명\"이 제일 중요\n",
        " - 모델이 관측치를 예측하기 위해서 어떤 특성을 활용했나요?\n",
        " - 어떤 특성이 있다면 모델의 예측에 도움이 될까요? 해당 특성은 어떻게 구할 수 있을까요?\n",
        "\n",
        "\n",
        "\n"
      ]
    },
    {
      "cell_type": "code",
      "metadata": {
        "id": "9rZoVKZulk0Q",
        "colab": {
          "base_uri": "https://localhost:8080/",
          "height": 35
        },
        "outputId": "bb8362ea-92f0-4797-c734-1c6867fdbe2d"
      },
      "source": [
        "\"hello\""
      ],
      "execution_count": null,
      "outputs": [
        {
          "output_type": "execute_result",
          "data": {
            "application/vnd.google.colaboratory.intrinsic+json": {
              "type": "string"
            },
            "text/plain": [
              "'hello'"
            ]
          },
          "metadata": {},
          "execution_count": 1
        }
      ]
    }
  ]
}