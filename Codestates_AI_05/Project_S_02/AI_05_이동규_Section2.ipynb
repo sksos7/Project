{
  "nbformat": 4,
  "nbformat_minor": 0,
  "metadata": {
    "colab": {
      "name": "Untitled1.ipynb",
      "provenance": [],
      "authorship_tag": "ABX9TyM2T9w2K9kMt0rMaNI5EBA9",
      "include_colab_link": true
    },
    "kernelspec": {
      "name": "python3",
      "display_name": "Python 3"
    },
    "language_info": {
      "name": "python"
    }
  },
  "cells": [
    {
      "cell_type": "markdown",
      "metadata": {
        "id": "view-in-github",
        "colab_type": "text"
      },
      "source": [
        "<a href=\"https://colab.research.google.com/github/sksos7/Project/blob/main/Codestates_AI_05/Project_S_02/AI_05_%EC%9D%B4%EB%8F%99%EA%B7%9C_Section2.ipynb\" target=\"_parent\"><img src=\"https://colab.research.google.com/assets/colab-badge.svg\" alt=\"Open In Colab\"/></a>"
      ]
    },
    {
      "cell_type": "markdown",
      "metadata": {
        "id": "hLHunRY6lnsR"
      },
      "source": [
        "Project Second"
      ]
    },
    {
      "cell_type": "code",
      "metadata": {
        "id": "9rZoVKZulk0Q"
      },
      "source": [
        ""
      ],
      "execution_count": null,
      "outputs": []
    }
  ]
}