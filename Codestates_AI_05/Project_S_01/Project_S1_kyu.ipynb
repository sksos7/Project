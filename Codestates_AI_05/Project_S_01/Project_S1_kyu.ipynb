{
  "nbformat": 4,
  "nbformat_minor": 0,
  "metadata": {
    "colab": {
      "name": "N1_Project_kyu.ipynb",
      "private_outputs": true,
      "provenance": [],
      "collapsed_sections": [],
      "authorship_tag": "ABX9TyOV7OKlk96w07vkr7r6OJ9/",
      "include_colab_link": true
    },
    "kernelspec": {
      "name": "python3",
      "display_name": "Python 3"
    },
    "language_info": {
      "name": "python"
    }
  },
  "cells": [
    {
      "cell_type": "markdown",
      "metadata": {
        "id": "view-in-github",
        "colab_type": "text"
      },
      "source": [
        "<a href=\"https://colab.research.google.com/github/sksos7/Project/blob/main/Codestates_AI_05/Project_S_01/Project_S1_kyu.ipynb\" target=\"_parent\"><img src=\"https://colab.research.google.com/assets/colab-badge.svg\" alt=\"Open In Colab\"/></a>"
      ]
    },
    {
      "cell_type": "markdown",
      "metadata": {
        "id": "NGaQI20cmNuV"
      },
      "source": [
        "# Goal of project : \"다음 분기에 어떤 게임을 설계해야 할까?\"\n",
        "\n",
        "게임 회사의 데이터 팀\n",
        "\n",
        "데이터셋을 읽는 것 부터, 이러한 게임을 만들어야 한다는 결론까지 의 과정\n",
        "\n",
        "해당 내용을 기반으로 설명하는 영상을 작성\n",
        "\n",
        "발표를 듣는 사람은 비데이터 직군이라 가정\n",
        "\n",
        "Sprint 1 : EDA, Feature Engineering, Data Manipulation, Data Visualization\n",
        "\n",
        "Sprint 2 : Hypothesis Test, CI, Bayesian\n",
        "\n",
        "Sprint 3 : DR, PCA, Cluster\n",
        "\n",
        "1. 지역에 따라서 선호하는 게임 장르가 다를까 라는 질문에 대답을 하셔야합니다.\n",
        "2. 연도별 게임의 트렌드가 있을까 라는 질문에 대답을 하셔야합니다.\n",
        "3. 출고량이 높은 게임에 대한 분석 및 시각화 프로세스가 포함되어야 합니다."
      ]
    },
    {
      "cell_type": "markdown",
      "metadata": {
        "id": "u8QER-ZSzF8t"
      },
      "source": [
        ""
      ]
    },
    {
      "cell_type": "code",
      "metadata": {
        "id": "pCVACrrGmsFk"
      },
      "source": [
        "# 필요한 라이브러리 임포트\n",
        "import pandas as pd"
      ],
      "execution_count": null,
      "outputs": []
    },
    {
      "cell_type": "code",
      "metadata": {
        "id": "CXLy1Sz8mupx"
      },
      "source": [
        "\"\"\"\n",
        "Name : 게임의 이름입니다.\n",
        "Platform : 게임이 지원되는 플랫폼의 이름입니다.\n",
        "Year : 게임이 출시된 연도입니다.\n",
        "Genre : 게임의 장르입니다.\n",
        "Publisher : 게임을 제작한 회사입니다.\n",
        "NA_Sales : 북미지역에서의 출고량입니다.\n",
        "EU_Sales : 유럽지역에서의 출고량입니다.\n",
        "JP_Sales : 일본지역에서의 출고량입니다.\n",
        "Other_Sales : 기타지역에서의 출고량입니다.\n",
        "\"\"\"\n",
        "# 데이터셋 불러오기\n",
        "df = pd.read_csv('https://ds-lecture-data.s3.ap-northeast-2.amazonaws.com/datasets/vgames2.csv')\n",
        "\n",
        "# (16598, 10)\n",
        "df.head()"
      ],
      "execution_count": null,
      "outputs": []
    },
    {
      "cell_type": "code",
      "metadata": {
        "id": "fQptPkh9nboI"
      },
      "source": [
        "# 결측치 확인\n",
        "df.isna().sum()"
      ],
      "execution_count": null,
      "outputs": []
    },
    {
      "cell_type": "code",
      "metadata": {
        "id": "j_1-FR5f5DKi"
      },
      "source": [
        "# 결측치의 모든 값을 'Unknown' 으로 대체\n",
        "df = df.fillna('Unknown')"
      ],
      "execution_count": null,
      "outputs": []
    },
    {
      "cell_type": "code",
      "metadata": {
        "id": "l1jKPm0Bj3Jb"
      },
      "source": [
        "# 출고량을 변환하는 함수\n",
        "def change_shipment_volume(df,colums):\n",
        "    count = 0\n",
        "    for i in df[colums]:\n",
        "        if 'K' in i:\n",
        "            tmp = float(i.replace('K',''))\n",
        "            if tmp != 0:\n",
        "                df.loc[count,colums] = tmp ** -3\n",
        "            else : df.loc[count,colums] = tmp\n",
        "        elif 'M' in i:\n",
        "            tmp = float(i.replace('M',''))\n",
        "            df.loc[count,colums] = tmp * 1\n",
        "        count = count + 1\n",
        "    return df[colums]"
      ],
      "execution_count": null,
      "outputs": []
    },
    {
      "cell_type": "code",
      "metadata": {
        "id": "kFmDHwIHHH1_"
      },
      "source": [
        "# 모든 출고량 'M' 지우고 x1, 'K' 지우고 **-3\n",
        "df['NA_Sales'] = pd.to_numeric(change_shipment_volume(df,'NA_Sales'))\n",
        "df['EU_Sales'] = pd.to_numeric(change_shipment_volume(df,'EU_Sales'))\n",
        "df['JP_Sales'] = pd.to_numeric(change_shipment_volume(df,'JP_Sales'))\n",
        "df['Other_Sales'] = pd.to_numeric(change_shipment_volume(df,'Other_Sales'))"
      ],
      "execution_count": null,
      "outputs": []
    },
    {
      "cell_type": "code",
      "metadata": {
        "id": "f1ru_Vl2P7iW"
      },
      "source": [
        "# 날짜를 적절하게 바꿈\n",
        "count = 0\n",
        "for i in df['Year']:\n",
        "    if i == 'Unknown':\n",
        "        count = count + 1\n",
        "        continue\n",
        "    elif i < 25:\n",
        "        df.loc[count,'Year'] = i + 2000\n",
        "    elif (i > 25) and (i < 100):\n",
        "        df.loc[count,'Year'] = i + 1900\n",
        "    count = count + 1"
      ],
      "execution_count": null,
      "outputs": []
    },
    {
      "cell_type": "code",
      "metadata": {
        "id": "bSj2SZsJYSrE"
      },
      "source": [
        "# 가장 최근에 출시된 연도는 2020년\n",
        "df[df['Year']==2020]"
      ],
      "execution_count": null,
      "outputs": []
    },
    {
      "cell_type": "code",
      "metadata": {
        "id": "_jeXyT27ZTUo"
      },
      "source": [
        "df = df.drop('Unnamed: 0',axis=1)"
      ],
      "execution_count": null,
      "outputs": []
    },
    {
      "cell_type": "markdown",
      "metadata": {
        "id": "8uWd59YKZQuN"
      },
      "source": [
        "\n",
        "\n",
        ">   위의 과정은 전처리 과정\n",
        "\n",
        "\n",
        "\n",
        "\n",
        "\n",
        "\n"
      ]
    },
    {
      "cell_type": "markdown",
      "metadata": {
        "id": "Dl5G8txjZu4m"
      },
      "source": [
        "\n",
        "\n",
        "> 1. 지역에 따라서 선호하는 게임 장르가 다를까 ?\n",
        "\n"
      ]
    },
    {
      "cell_type": "code",
      "metadata": {
        "id": "I79vhpCNaI-y"
      },
      "source": [
        "# 필요한 부분만 가져오기\n",
        "df_area_genre = df.copy()\n",
        "\n",
        "df_area_genre = df_area_genre.loc[:,['Genre','NA_Sales','EU_Sales','JP_Sales','Other_Sales']]\n",
        "df_area_genre.head()"
      ],
      "execution_count": null,
      "outputs": []
    },
    {
      "cell_type": "code",
      "metadata": {
        "id": "jhymZ54TezSw"
      },
      "source": [
        "df_area_genre.groupby('Genre').sum()"
      ],
      "execution_count": null,
      "outputs": []
    }
  ]
}