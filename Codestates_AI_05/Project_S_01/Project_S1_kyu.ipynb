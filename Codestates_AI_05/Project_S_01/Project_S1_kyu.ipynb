{
  "nbformat": 4,
  "nbformat_minor": 0,
  "metadata": {
    "colab": {
      "name": "N1_Project_kyu.ipynb",
      "private_outputs": true,
      "provenance": [],
      "collapsed_sections": [],
      "authorship_tag": "ABX9TyM0G6wyj8zSiA68GeTxUw7O",
      "include_colab_link": true
    },
    "kernelspec": {
      "name": "python3",
      "display_name": "Python 3"
    },
    "language_info": {
      "name": "python"
    }
  },
  "cells": [
    {
      "cell_type": "markdown",
      "metadata": {
        "id": "view-in-github",
        "colab_type": "text"
      },
      "source": [
        "<a href=\"https://colab.research.google.com/github/sksos7/Project/blob/main/Codestates_AI_05/Project_S_01/Project_S1_kyu.ipynb\" target=\"_parent\"><img src=\"https://colab.research.google.com/assets/colab-badge.svg\" alt=\"Open In Colab\"/></a>"
      ]
    },
    {
      "cell_type": "markdown",
      "metadata": {
        "id": "NGaQI20cmNuV"
      },
      "source": [
        "# Goal of project : \"다음 분기에 어떤 게임을 설계해야 할까?\"\n",
        "\n",
        "게임 회사의 데이터 팀\n",
        "\n",
        "데이터셋을 읽는 것 부터, 이러한 게임을 만들어야 한다는 결론까지 의 과정\n",
        "\n",
        "해당 내용을 기반으로 설명하는 영상을 작성\n",
        "\n",
        "발표를 듣는 사람은 비데이터 직군이라 가정\n",
        "\n",
        "Sprint 1 : EDA, Feature Engineering, Data Manipulation, Data Visualization\n",
        "\n",
        "Sprint 2 : Hypothesis Test, CI, Bayesian\n",
        "\n",
        "Sprint 3 : DR, PCA, Cluster\n",
        "\n",
        "1. 지역에 따라서 선호하는 게임 장르가 다를까 라는 질문에 대답을 하셔야합니다.\n",
        "2. 연도별 게임의 트렌드가 있을까 라는 질문에 대답을 하셔야합니다.\n",
        "3. 출고량이 높은 게임에 대한 분석 및 시각화 프로세스가 포함되어야 합니다."
      ]
    },
    {
      "cell_type": "markdown",
      "metadata": {
        "id": "u8QER-ZSzF8t"
      },
      "source": [
        ""
      ]
    },
    {
      "cell_type": "code",
      "metadata": {
        "id": "pCVACrrGmsFk"
      },
      "source": [
        "# 필요한 라이브러리 임포트\n",
        "import pandas as pd\n",
        "import matplotlib.pyplot as plt\n",
        "import seaborn as sns\n",
        "import numpy as np"
      ],
      "execution_count": null,
      "outputs": []
    },
    {
      "cell_type": "code",
      "metadata": {
        "id": "CXLy1Sz8mupx"
      },
      "source": [
        "\"\"\"\n",
        "Name : 게임의 이름입니다.\n",
        "Platform : 게임이 지원되는 플랫폼의 이름입니다.\n",
        "Year : 게임이 출시된 연도입니다.\n",
        "Genre : 게임의 장르입니다.\n",
        "Publisher : 게임을 제작한 회사입니다.\n",
        "NA_Sales : 북미지역에서의 출고량입니다.\n",
        "EU_Sales : 유럽지역에서의 출고량입니다.\n",
        "JP_Sales : 일본지역에서의 출고량입니다.\n",
        "Other_Sales : 기타지역에서의 출고량입니다.\n",
        "\"\"\"\n",
        "# 데이터셋 불러오기\n",
        "df = pd.read_csv('https://ds-lecture-data.s3.ap-northeast-2.amazonaws.com/datasets/vgames2.csv')\n",
        "\n",
        "# (16598, 10)\n",
        "df.head()"
      ],
      "execution_count": null,
      "outputs": []
    },
    {
      "cell_type": "code",
      "metadata": {
        "id": "fQptPkh9nboI"
      },
      "source": [
        "# 결측치 확인\n",
        "df.isna().sum()"
      ],
      "execution_count": null,
      "outputs": []
    },
    {
      "cell_type": "code",
      "metadata": {
        "id": "j_1-FR5f5DKi"
      },
      "source": [
        "# 결측치의 모든 값을 'Unknown' 으로 대체\n",
        "df = df.fillna('Unknown')"
      ],
      "execution_count": null,
      "outputs": []
    },
    {
      "cell_type": "code",
      "metadata": {
        "id": "l1jKPm0Bj3Jb"
      },
      "source": [
        "# 출고량을 변환하는 함수\n",
        "def change_shipment_volume(df,colums):\n",
        "    count = 0\n",
        "    for i in df[colums]:\n",
        "        if 'K' in i:\n",
        "            tmp = float(i.replace('K',''))\n",
        "            if tmp != 0:\n",
        "                df.loc[count,colums] = tmp ** -3\n",
        "            else : df.loc[count,colums] = tmp\n",
        "        elif 'M' in i:\n",
        "            tmp = float(i.replace('M',''))\n",
        "            df.loc[count,colums] = tmp * 1\n",
        "        count = count + 1\n",
        "    return df[colums]"
      ],
      "execution_count": null,
      "outputs": []
    },
    {
      "cell_type": "code",
      "metadata": {
        "id": "kFmDHwIHHH1_"
      },
      "source": [
        "# 모든 출고량 'M' 지우고 x1, 'K' 지우고 **-3\n",
        "df['NA_Sales'] = pd.to_numeric(change_shipment_volume(df,'NA_Sales'))\n",
        "df['EU_Sales'] = pd.to_numeric(change_shipment_volume(df,'EU_Sales'))\n",
        "df['JP_Sales'] = pd.to_numeric(change_shipment_volume(df,'JP_Sales'))\n",
        "df['Other_Sales'] = pd.to_numeric(change_shipment_volume(df,'Other_Sales'))"
      ],
      "execution_count": null,
      "outputs": []
    },
    {
      "cell_type": "code",
      "metadata": {
        "id": "f1ru_Vl2P7iW"
      },
      "source": [
        "# 날짜를 적절하게 바꿈\n",
        "count = 0\n",
        "for i in df['Year']:\n",
        "    if i == 'Unknown':\n",
        "        count = count + 1\n",
        "        continue\n",
        "    elif i < 25:\n",
        "        df.loc[count,'Year'] = i + 2000\n",
        "    elif (i > 25) and (i < 100):\n",
        "        df.loc[count,'Year'] = i + 1900\n",
        "    count = count + 1"
      ],
      "execution_count": null,
      "outputs": []
    },
    {
      "cell_type": "code",
      "metadata": {
        "id": "bSj2SZsJYSrE"
      },
      "source": [
        "# 가장 최근에 출시된 연도는 2020년\n",
        "df[df['Year']==2020]"
      ],
      "execution_count": null,
      "outputs": []
    },
    {
      "cell_type": "code",
      "metadata": {
        "id": "_jeXyT27ZTUo"
      },
      "source": [
        "df = df.drop('Unnamed: 0',axis=1)"
      ],
      "execution_count": null,
      "outputs": []
    },
    {
      "cell_type": "code",
      "metadata": {
        "id": "E7k8MX9ZOR17"
      },
      "source": [
        "df.head()"
      ],
      "execution_count": null,
      "outputs": []
    },
    {
      "cell_type": "markdown",
      "metadata": {
        "id": "8uWd59YKZQuN"
      },
      "source": [
        "\n",
        "\n",
        ">   위의 과정은 전처리 과정\n",
        "\n",
        "\n",
        "\n",
        "\n",
        "\n",
        "\n"
      ]
    },
    {
      "cell_type": "markdown",
      "metadata": {
        "id": "Dl5G8txjZu4m"
      },
      "source": [
        "\n",
        "\n",
        "> 1. 지역에 따라서 선호하는 게임 장르가 다를까 ?\n",
        "\n"
      ]
    },
    {
      "cell_type": "code",
      "metadata": {
        "id": "I79vhpCNaI-y"
      },
      "source": [
        "# 필요한 부분만 가져오기\n",
        "# 장르 + 각 지역별 출고량\n",
        "df_area_genre = df.copy()\n",
        "df_area_genre = df_area_genre.loc[:,['Genre','NA_Sales','EU_Sales','JP_Sales','Other_Sales']]\n",
        "# 장르가 'Unknown' 인 데이터는 제외\n",
        "df_area_genre = df_area_genre[~(df_area_genre['Genre'] == 'Unknown')]\n",
        "df_area_genre.reset_index(drop=True, inplace=True)\n",
        "df_area_genre"
      ],
      "execution_count": null,
      "outputs": []
    },
    {
      "cell_type": "code",
      "metadata": {
        "id": "jhymZ54TezSw"
      },
      "source": [
        "# 장르를 기준으로 그룹화\n",
        "df_area_genre_visual = df_area_genre.groupby('Genre').sum()\n",
        "df_area_genre_visual"
      ],
      "execution_count": null,
      "outputs": []
    },
    {
      "cell_type": "code",
      "metadata": {
        "id": "6muyfX1xvr6n"
      },
      "source": [
        "# 지역별 각 장르의 출고량\n",
        "df_area_genre_visual.plot.bar()\n",
        "plt.show()"
      ],
      "execution_count": null,
      "outputs": []
    },
    {
      "cell_type": "code",
      "metadata": {
        "id": "6JTSkzPa2Rql"
      },
      "source": [
        "# 지역별 action, role-playing 출고량\n",
        "df_area_genre_visual.loc[['Action','Role-Playing'],:].plot.bar()\n",
        "plt.show()"
      ],
      "execution_count": null,
      "outputs": []
    },
    {
      "cell_type": "code",
      "metadata": {
        "id": "phAMCuhK3gQC"
      },
      "source": [
        "# 지역별 action, role-playing 출고량의 합\n",
        "df_area_genre_visual.loc[['Action','Role-Playing'],:].plot.bar(stacked = True)\n",
        "plt.show()"
      ],
      "execution_count": null,
      "outputs": []
    },
    {
      "cell_type": "code",
      "metadata": {
        "id": "I4_5I1c7xXDw"
      },
      "source": [
        "# 북미 지역의 장르 출고량\n",
        "plt.figure(figsize=(10,10))\n",
        "\n",
        "explode = [0.1, 0.0, 0.0, 0.0, 0.0, 0.0, 0.0, 0.0, 0.05, 0.0, 0.05, 0.0]\n",
        "wedgeprops={'width': 0.9, 'edgecolor': 'w', 'linewidth': 1}\n",
        "plt.pie(df_area_genre_visual['NA_Sales'],\n",
        "        labels = df_area_genre_visual.index,\n",
        "        explode = explode,\n",
        "        autopct='%1.1f%%',\n",
        "        textprops = {'fontsize':13},\n",
        "        wedgeprops=wedgeprops)\n",
        "\n",
        "\n",
        "\n",
        "plt.title('NA', fontdict={ 'fontsize': 25, 'fontweight': 'bold'})\n",
        "plt.show()"
      ],
      "execution_count": null,
      "outputs": []
    },
    {
      "cell_type": "code",
      "metadata": {
        "id": "rrxzt0tb8no0"
      },
      "source": [
        "# 유럽 지역의 장르 출고량\n",
        "plt.figure(figsize=(10,10))\n",
        "explode = [0.1, 0.0, 0.0, 0.0, 0.0, 0.0, 0.0, 0.0, 0.05, 0.0, 0.05, 0.0]\n",
        "plt.pie(df_area_genre_visual['EU_Sales'],\n",
        "        labels = df_area_genre_visual.index,\n",
        "        explode = explode,\n",
        "        autopct='%1.1f%%',\n",
        "        textprops = {'fontsize':13},\n",
        "        wedgeprops=wedgeprops)\n",
        "\n",
        "plt.title('EU', fontdict={ 'fontsize': 25, 'fontweight': 'bold'})\n",
        "plt.show()"
      ],
      "execution_count": null,
      "outputs": []
    },
    {
      "cell_type": "code",
      "metadata": {
        "id": "dPs1HfPF8wxs"
      },
      "source": [
        "# 일본 지역의 장르 출고량\n",
        "plt.figure(figsize=(10,10))\n",
        "explode = [0.05, 0.0, 0.0, 0.0, 0.0, 0.0, 0.0, 0.1, 0.0, 0.0, 0.05, 0.0]\n",
        "plt.pie(df_area_genre_visual['JP_Sales'],\n",
        "        labels = df_area_genre_visual.index,\n",
        "        explode = explode,\n",
        "        autopct='%1.1f%%',\n",
        "        textprops = {'fontsize':13},\n",
        "        wedgeprops=wedgeprops)\n",
        "\n",
        "plt.title('JP', fontdict={ 'fontsize': 25, 'fontweight': 'bold'})\n",
        "plt.show()"
      ],
      "execution_count": null,
      "outputs": []
    },
    {
      "cell_type": "code",
      "metadata": {
        "id": "gH_EyyRu9Ylb"
      },
      "source": [
        "# 그외 지역의 장르 출고량\n",
        "plt.figure(figsize=(10,10))\n",
        "explode = [0.1, 0.0, 0.0, 0.0, 0.0, 0.0, 0.0, 0.0, 0.05, 0.0, 0.05, 0.0]\n",
        "plt.pie(df_area_genre_visual['Other_Sales'],\n",
        "        labels = df_area_genre_visual.index,\n",
        "        explode = explode,\n",
        "        autopct='%1.1f%%',\n",
        "        textprops = {'fontsize':13},\n",
        "        wedgeprops=wedgeprops)\n",
        "\n",
        "plt.title('Other', fontdict={ 'fontsize': 25, 'fontweight': 'bold'})\n",
        "plt.show()"
      ],
      "execution_count": null,
      "outputs": []
    },
    {
      "cell_type": "markdown",
      "metadata": {
        "id": "QPPAYR-uDA1m"
      },
      "source": [
        "\n",
        "> 2. 연도별 게임의 트렌드가 있을까 라는 질문에 대답을 하셔야합니다.\n",
        "\n",
        "\n"
      ]
    },
    {
      "cell_type": "code",
      "metadata": {
        "id": "mLidMgaN-b0C"
      },
      "source": [
        "# 필요한 부분만 가져오기\n",
        "# 플랫폼 + 연도 + 장르\n",
        "df_year_trend = df.copy()\n",
        "df_year_trend = df_year_trend.loc[:,['Platform','Year', 'Genre']]\n",
        "# 연도와 장르가 'Unknown' 인 값을 제외한 데이터\n",
        "condition = (df_year_trend['Year']=='Unknown') | (df_year_trend['Genre']=='Unknown')\n",
        "df_year_trend = df_year_trend[~condition]\n",
        "df_year_trend.reset_index(drop=True, inplace=True)\n",
        "df_year_trend.head()"
      ],
      "execution_count": null,
      "outputs": []
    },
    {
      "cell_type": "code",
      "metadata": {
        "id": "RW-AEzViE2tY"
      },
      "source": [
        "# 먼저 연도와 장르\n",
        "df_year_genre = df_year_trend.loc[:,['Year','Genre']].copy()\n",
        "df_year_genre.head()"
      ],
      "execution_count": null,
      "outputs": []
    },
    {
      "cell_type": "code",
      "metadata": {
        "id": "kIaevTPYNGhv"
      },
      "source": [
        "# 연도와 장르의 빈도수\n",
        "df_year_genre_visual = pd.crosstab(df_year_genre['Year'],df_year_genre['Genre'])\n",
        "df_year_genre_visual.head()"
      ],
      "execution_count": null,
      "outputs": []
    },
    {
      "cell_type": "code",
      "metadata": {
        "id": "UgTD7GBi4lfe"
      },
      "source": [
        "# 연도별 장르의 합 (출시한 게임 수)\n",
        "df_year_genre_visual.plot(kind ='bar', figsize=(25,10), fontsize=15, stacked = True)\n",
        "plt.show()"
      ],
      "execution_count": null,
      "outputs": []
    },
    {
      "cell_type": "code",
      "metadata": {
        "id": "Zxedc9nts-3o"
      },
      "source": [
        "# 연도별 장르\n",
        "df_year_genre_visual.plot(kind ='bar', figsize=(25,10), fontsize=15)\n",
        "plt.show()"
      ],
      "execution_count": null,
      "outputs": []
    },
    {
      "cell_type": "code",
      "metadata": {
        "id": "tNSGiWvovZ3F"
      },
      "source": [
        "# 연도별 장르 ( 액션, 스포츠, 슈터, 롤플레잉)\n",
        "df_year_genre_visual.loc[:,['Action','Sports','Shooter','Role-Playing']].plot(kind ='bar', figsize=(25,10), fontsize=15)\n",
        "plt.show()"
      ],
      "execution_count": null,
      "outputs": []
    },
    {
      "cell_type": "code",
      "metadata": {
        "id": "j-Ic6ZI_3-T8"
      },
      "source": [
        "# 필요한 데이터만 불러오기\n",
        "# 플렛폼의 비율\n",
        "df_name_platform = df.loc[:,['Name','Platform']]\n",
        "df_name_platform.head()"
      ],
      "execution_count": null,
      "outputs": []
    },
    {
      "cell_type": "code",
      "metadata": {
        "id": "iL-8XJvf6KbP"
      },
      "source": [
        "df_name_platform_visual = df_name_platform.groupby(['Platform']).count()\n",
        "df_name_platform_visual = df_name_platform_visual.sort_values(by='Name' ,ascending=False)\n",
        "\n",
        "plt.figure(figsize=(15,10))\n",
        "colors = sns.color_palette('hls',len(df_name_platform_visual['Name']))\n",
        "plt.bar(df_name_platform_visual.index, df_name_platform_visual['Name'], color = colors)\n",
        "plt.show()"
      ],
      "execution_count": null,
      "outputs": []
    },
    {
      "cell_type": "code",
      "metadata": {
        "id": "AW6Z4PTO-Eym"
      },
      "source": [
        "# 필요한 데이터만 불러오기\n",
        "# 년도 별 플랫폼\n",
        "df_year_platform = df_year_trend.loc[:,['Year','Platform']].copy()\n",
        "df_year_platform.head()"
      ],
      "execution_count": null,
      "outputs": []
    },
    {
      "cell_type": "code",
      "metadata": {
        "id": "W7GL5FTnzhvf"
      },
      "source": [
        "# 플랫폼 연도의 빈도수\n",
        "df_year_platform_visual = pd.crosstab(df_year_platform['Platform'],df_year_platform['Year'])\n",
        "df_year_platform_visual.columns = df_year_platform_visual.columns.astype(int)\n",
        "df_year_platform_visual.head()"
      ],
      "execution_count": null,
      "outputs": []
    },
    {
      "cell_type": "code",
      "metadata": {
        "id": "U0G-suN_zr1M"
      },
      "source": [
        "# 시각화 1980~1989\n",
        "plt.figure(figsize=(25,10))\n",
        "\n",
        "title_font = {\n",
        "    'fontsize': 20,\n",
        "    'fontweight': 'bold'\n",
        "}\n",
        "\n",
        "for i in range(0,10):\n",
        "    plt.subplot(2,5,i+1)\n",
        "    condition = df_year_platform_visual.iloc[:,i] == 0\n",
        "    plt.pie(df_year_platform_visual[~condition].iloc[:,i],\n",
        "            labels = df_year_platform_visual[~condition].iloc[:,0].index,\n",
        "            autopct='%.1f%%')\n",
        "    plt.title(df_year_platform_visual.columns[i], fontdict=title_font)\n",
        "\n",
        "plt.show()"
      ],
      "execution_count": null,
      "outputs": []
    },
    {
      "cell_type": "code",
      "metadata": {
        "id": "_infKJH6HPo7"
      },
      "source": [
        "# 시각화 1990~1999\n",
        "plt.figure(figsize=(25,10))\n",
        "\n",
        "for i in range(10,20):\n",
        "    plt.subplot(2,5,i+1-10)\n",
        "    condition = df_year_platform_visual.iloc[:,i] == 0\n",
        "    plt.pie(df_year_platform_visual[~condition].iloc[:,i],\n",
        "            labels = df_year_platform_visual[~condition].iloc[:,0].index,\n",
        "            autopct='%.1f%%')\n",
        "    plt.title(df_year_platform_visual.columns[i], fontdict=title_font)\n",
        "\n",
        "plt.show()"
      ],
      "execution_count": null,
      "outputs": []
    },
    {
      "cell_type": "code",
      "metadata": {
        "id": "gf9dncqQHfsc"
      },
      "source": [
        "# 시각화 2000 ~ 2009\n",
        "plt.figure(figsize=(25,10))\n",
        "\n",
        "for i in range(20,30):\n",
        "    plt.subplot(2,5,i+1-20)\n",
        "    condition = df_year_platform_visual.iloc[:,i] == 0\n",
        "    plt.pie(df_year_platform_visual[~condition].iloc[:,i],\n",
        "            labels = df_year_platform_visual[~condition].iloc[:,0].index,\n",
        "            autopct='%.1f%%')\n",
        "    plt.title(df_year_platform_visual.columns[i], fontdict=title_font)\n",
        "\n",
        "plt.show()"
      ],
      "execution_count": null,
      "outputs": []
    },
    {
      "cell_type": "code",
      "metadata": {
        "id": "P8Q1P_lIHkaL"
      },
      "source": [
        "# 2010 ~ 2020 (17 18 19 20 은 데이터가 적어 제외)\n",
        "plt.figure(figsize=(25,10))\n",
        "\n",
        "for i in range(30,39):\n",
        "    plt.subplot(2,5,i+1-30)\n",
        "    condition = df_year_platform_visual.iloc[:,i] == 0\n",
        "    plt.pie(df_year_platform_visual[~condition].iloc[:,i],\n",
        "            labels = df_year_platform_visual[~condition].iloc[:,0].index,\n",
        "            autopct='%.1f%%')\n",
        "    plt.title(df_year_platform_visual.columns[i], fontdict=title_font)\n",
        "\n",
        "plt.show()"
      ],
      "execution_count": null,
      "outputs": []
    },
    {
      "cell_type": "code",
      "metadata": {
        "id": "ka6RUw0sK1oA"
      },
      "source": [
        "# 필요한 것만 빼오기\n",
        "# 플렛폼과 각 지역의 출고량\n",
        "df_platform_area = df.loc[:,['Platform','NA_Sales','EU_Sales','JP_Sales','Other_Sales']].copy()\n",
        "df_platform_area.head()"
      ],
      "execution_count": null,
      "outputs": []
    },
    {
      "cell_type": "code",
      "metadata": {
        "id": "vQ_AwiSzLhg7"
      },
      "source": [
        "# 출고량의 총합에 대해 플랫폼으로 그룹화\n",
        "df_platform_area['Platform_Total'] = df_platform_area['NA_Sales'] + df_platform_area['EU_Sales'] + df_platform_area['JP_Sales'] + df_platform_area['Other_Sales']\n",
        "df_platform_area_visual = df_platform_area.loc[:,['Platform','Platform_Total']].groupby(['Platform']).sum()\n",
        "df_platform_area_visual = df_platform_area_visual.sort_values(by='Platform_Total' ,ascending=False)\n",
        "df_platform_area_visual.head()"
      ],
      "execution_count": null,
      "outputs": []
    },
    {
      "cell_type": "code",
      "metadata": {
        "id": "Gkn_CFHMMakV"
      },
      "source": [
        "# 각 플랫폼의 출고량\n",
        "plt.figure(figsize=(15,10))\n",
        "colors = sns.color_palette('hls',len(df_platform_area_visual['Platform_Total']))\n",
        "plt.bar(df_platform_area_visual.index, df_platform_area_visual['Platform_Total'], color = colors)\n",
        "plt.show()"
      ],
      "execution_count": null,
      "outputs": []
    },
    {
      "cell_type": "code",
      "metadata": {
        "id": "iqc7ZpDCWMMD"
      },
      "source": [
        "# 2016년 기준 출시된 플랫폼 게임의 출고량\n",
        "condition = df_platform_area_visual.loc[['X360','PS3','PS4','PC','3DS','XOne','WiiU','PSV'],:]\n",
        "plt.bar(condition.index, condition['Platform_Total'], color = colors)\n",
        "plt.show()"
      ],
      "execution_count": null,
      "outputs": []
    },
    {
      "cell_type": "markdown",
      "metadata": {
        "id": "rNgjsRxlZyVD"
      },
      "source": [
        "\n",
        "\n",
        "> 3. 출고량이 높은 게임에 대한 분석 및 시각화 프로세스가 포함\n",
        "\n"
      ]
    },
    {
      "cell_type": "code",
      "metadata": {
        "id": "C5R2n4IUZ141"
      },
      "source": [
        "# 출고량(각 지역별 출고량의 합) + 게임 일름\n",
        "# 필요한 것만 가져오기\n",
        "df_name_area = df.loc[:,['Name','NA_Sales','EU_Sales','JP_Sales','Other_Sales']].copy()\n",
        "df_name_area['Name_Total'] =  df_name_area['NA_Sales'] + df_name_area['EU_Sales'] + df_name_area['JP_Sales'] + df_name_area['Other_Sales']\n",
        "df_name_area.head()"
      ],
      "execution_count": null,
      "outputs": []
    },
    {
      "cell_type": "code",
      "metadata": {
        "id": "kMbJd2YybNcl"
      },
      "source": [
        "# 각 게임별 출고량, 다른 플렛폼일 경우 합쳐서 계산\n",
        "df_name_area_visual = df_name_area.loc[:,['Name','Name_Total']].groupby(['Name']).sum()\n",
        "df_name_area_visual = df_name_area_visual.sort_values(by='Name_Total' ,ascending=False)\n",
        "df_name_area_visual.head()"
      ],
      "execution_count": null,
      "outputs": []
    },
    {
      "cell_type": "code",
      "metadata": {
        "id": "rfnhCKtBcXDx"
      },
      "source": [
        "# 각 게임별 출고량 시각화 (약 11000개의 데이터가 있어서 상위 100개)\n",
        "condition = df_name_area_visual.iloc[0:50,:]\n",
        "plt.figure(figsize=(20,10))\n",
        "colors = sns.color_palette('hls',len(condition['Name_Total']))\n",
        "plt.barh(condition.index, condition['Name_Total'], color = colors)\n",
        "plt.show()"
      ],
      "execution_count": null,
      "outputs": []
    },
    {
      "cell_type": "code",
      "metadata": {
        "id": "uHGCg23ufpZ0"
      },
      "source": [
        "# 출고량(각 지역별 출고량의 합) + 게임 + 장르\n",
        "# 필요한 것만 가져오기\n",
        "df_name_genre_area = df.loc[:,['Name','Genre','NA_Sales','EU_Sales','JP_Sales','Other_Sales']].copy()\n",
        "df_name_genre_area['Name_Total'] =  (df_name_genre_area['NA_Sales'] +\n",
        "                                     df_name_genre_area['EU_Sales'] +\n",
        "                                     df_name_genre_area['JP_Sales'] +\n",
        "                                     df_name_genre_area['Other_Sales'])\n",
        "df_name_genre_area.head()"
      ],
      "execution_count": null,
      "outputs": []
    },
    {
      "cell_type": "code",
      "metadata": {
        "id": "ATvPChRKgIRn"
      },
      "source": [
        "# 가장 많은 출고량의 데이터 50개를 추출\n",
        "df_name_genre_area_to_extract = df_name_genre_area.loc[:,['Name','Genre','Name_Total']]\n",
        "df_name_genre_area_to_extract = df_name_genre_area_to_extract.groupby(['Name','Genre']).sum()\n",
        "df_name_genre_area_to_extract = df_name_genre_area_to_extract.sort_values(by='Name_Total' ,ascending=False)\n",
        "df_name_genre_area_visual = df_name_genre_area_to_extract.iloc[0:50,:]\n",
        "df_name_genre_area_visual.head()"
      ],
      "execution_count": null,
      "outputs": []
    },
    {
      "cell_type": "code",
      "metadata": {
        "id": "3lC2PDhskEK2"
      },
      "source": [
        "# 출고량이 제일 높은 50개를 기준으로 장르의 퍼센테이지 계산\n",
        "df_name_genre_area_visual = df_name_genre_area_visual.reset_index()\n",
        "df_name_genre_area_visual = df_name_genre_area_visual.drop('Name',axis=1)\n",
        "df_name_genre_area_visual = df_name_genre_area_visual.groupby(['Genre']).count()\n",
        "\n",
        "plt.figure(figsize=(25,10))\n",
        "# np.array(values).ravel()\n",
        "plt.pie(df_name_genre_area_visual['Name_Total'],\n",
        "        labels = df_name_genre_area_visual.index,\n",
        "        autopct='%.1f%%')\n",
        "plt.title('Top 50 Genre Percentage', fontdict=title_font)\n",
        "plt.show()"
      ],
      "execution_count": null,
      "outputs": []
    },
    {
      "cell_type": "code",
      "metadata": {
        "id": "tKMvBGkMnZ9U"
      },
      "source": [
        "# 출고량이 높은 50, 100, 150, 200개의 장르 퍼센트\n",
        "plt.figure(figsize=(15,15))\n",
        "\n",
        "title_font = {\n",
        "    'fontsize': 15,\n",
        "    'fontweight': 'bold'\n",
        "}\n",
        "\n",
        "for i in range(1,5):\n",
        "    df_name_genre_area_visual = df_name_genre_area_to_extract.iloc[0:50*i,:]\n",
        "    df_name_genre_area_visual = df_name_genre_area_visual.reset_index()\n",
        "    df_name_genre_area_visual = df_name_genre_area_visual.drop('Name',axis=1)\n",
        "    df_name_genre_area_visual = df_name_genre_area_visual.groupby(['Genre']).count()\n",
        "\n",
        "    plt.subplot(2,2,i)\n",
        "    condition = df_year_platform_visual.iloc[:,i] == 0\n",
        "    plt.pie(df_name_genre_area_visual['Name_Total'],\n",
        "            labels = df_name_genre_area_visual.index,\n",
        "            autopct='%.1f%%')\n",
        "    plt.title( ('Top '+str(50*i)+' Genre Percentage') , fontdict=title_font)\n",
        "plt.show()"
      ],
      "execution_count": null,
      "outputs": []
    }
  ]
}