{
  "nbformat": 4,
  "nbformat_minor": 0,
  "metadata": {
    "colab": {
      "name": "N1_Project_kyu.ipynb",
      "private_outputs": true,
      "provenance": [],
      "collapsed_sections": [],
      "authorship_tag": "ABX9TyNCyqKcxdEpXQoZVIrUf78Q",
      "include_colab_link": true
    },
    "kernelspec": {
      "name": "python3",
      "display_name": "Python 3"
    },
    "language_info": {
      "name": "python"
    }
  },
  "cells": [
    {
      "cell_type": "markdown",
      "metadata": {
        "id": "view-in-github",
        "colab_type": "text"
      },
      "source": [
        "<a href=\"https://colab.research.google.com/github/sksos7/Project/blob/main/N1_Project_kyu.ipynb\" target=\"_parent\"><img src=\"https://colab.research.google.com/assets/colab-badge.svg\" alt=\"Open In Colab\"/></a>"
      ]
    },
    {
      "cell_type": "markdown",
      "metadata": {
        "id": "NGaQI20cmNuV"
      },
      "source": [
        "# Goal of project : \"다음 분기에 어떤 게임을 설계해야 할까?\"\n",
        "\n",
        "게임 회사의 데이터 팀\n",
        "\n",
        "데이터셋을 읽는 것 부터, 이러한 게임을 만들어야 한다는 결론까지 의 과정\n",
        "\n",
        "해당 내용을 기반으로 설명하는 영상을 작성\n",
        "\n",
        "발표를 듣는 사람은 비데이터 직군이라 가정\n",
        "\n",
        "Sprint 1 : EDA, Feature Engineering, Data Manipulation, Data Visualization\n",
        "\n",
        "Sprint 2 : Hypothesis Test, CI, Bayesian\n",
        "\n",
        "Sprint 3 : DR, PCA, Cluster\n",
        "\n",
        "1. 지역에 따라서 선호하는 게임 장르가 다를까 라는 질문에 대답을 하셔야합니다.\n",
        "2. 연도별 게임의 트렌드가 있을까 라는 질문에 대답을 하셔야합니다.\n",
        "3. 출고량이 높은 게임에 대한 분석 및 시각화 프로세스가 포함되어야 합니다."
      ]
    },
    {
      "cell_type": "markdown",
      "metadata": {
        "id": "u8QER-ZSzF8t"
      },
      "source": [
        ""
      ]
    },
    {
      "cell_type": "code",
      "metadata": {
        "id": "pCVACrrGmsFk"
      },
      "source": [
        "# 필요한 라이브러리 임포트\n",
        "import pandas as pd"
      ],
      "execution_count": null,
      "outputs": []
    },
    {
      "cell_type": "code",
      "metadata": {
        "id": "CXLy1Sz8mupx"
      },
      "source": [
        "\"\"\"\n",
        "Name : 게임의 이름입니다.\n",
        "Platform : 게임이 지원되는 플랫폼의 이름입니다.\n",
        "Year : 게임이 출시된 연도입니다.\n",
        "Genre : 게임의 장르입니다.\n",
        "Publisher : 게임을 제작한 회사입니다.\n",
        "NA_Sales : 북미지역에서의 출고량입니다.\n",
        "EU_Sales : 유럽지역에서의 출고량입니다.\n",
        "JP_Sales : 일본지역에서의 출고량입니다.\n",
        "Other_Sales : 기타지역에서의 출고량입니다.\n",
        "\"\"\"\n",
        "# 데이터셋 불러오기\n",
        "df = pd.read_csv('https://ds-lecture-data.s3.ap-northeast-2.amazonaws.com/datasets/vgames2.csv')\n",
        "\n",
        "# (16598, 10)\n",
        "df.head()"
      ],
      "execution_count": null,
      "outputs": []
    },
    {
      "cell_type": "code",
      "metadata": {
        "id": "fQptPkh9nboI"
      },
      "source": [
        "# 지역(미국, 유럽, 일본, 기타지역)에 따라서 선호하는 게임 장르(Genre)가 다를까\n",
        "# 연도(Year)별 게임의 트렌드(?)가 있을까 라는 질문에 대답을\n",
        "# 출고량이 높은 게임(sum)에 대한 분석 및 시각화 프로세스가 포함\n",
        "\n",
        "df[['NA_Sales']]\n"
      ],
      "execution_count": null,
      "outputs": []
    }
  ]
}